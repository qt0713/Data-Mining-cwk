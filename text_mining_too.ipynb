{
  "cells": [
    {
      "cell_type": "code",
      "execution_count": 1,
      "metadata": {
        "execution": {
          "iopub.execute_input": "2025-05-09T22:58:04.251237Z",
          "iopub.status.busy": "2025-05-09T22:58:04.250664Z",
          "iopub.status.idle": "2025-05-09T22:58:04.520625Z",
          "shell.execute_reply": "2025-05-09T22:58:04.520108Z",
          "shell.execute_reply.started": "2025-05-09T22:58:04.251214Z"
        },
        "id": "hGWmx0dz2j4F",
        "trusted": true
      },
      "outputs": [
        {
          "ename": "ModuleNotFoundError",
          "evalue": "No module named 'nltk'",
          "output_type": "error",
          "traceback": [
            "\u001b[31m---------------------------------------------------------------------------\u001b[39m",
            "\u001b[31mModuleNotFoundError\u001b[39m                       Traceback (most recent call last)",
            "\u001b[36mCell\u001b[39m\u001b[36m \u001b[39m\u001b[32mIn[1]\u001b[39m\u001b[32m, line 5\u001b[39m\n\u001b[32m      3\u001b[39m \u001b[38;5;28;01mimport\u001b[39;00m\u001b[38;5;250m \u001b[39m\u001b[34;01mseaborn\u001b[39;00m\u001b[38;5;250m \u001b[39m\u001b[38;5;28;01mas\u001b[39;00m\u001b[38;5;250m \u001b[39m\u001b[34;01msns\u001b[39;00m\n\u001b[32m      4\u001b[39m \u001b[38;5;28;01mimport\u001b[39;00m\u001b[38;5;250m \u001b[39m\u001b[34;01mre\u001b[39;00m\n\u001b[32m----> \u001b[39m\u001b[32m5\u001b[39m \u001b[38;5;28;01mimport\u001b[39;00m\u001b[38;5;250m \u001b[39m\u001b[34;01mnltk\u001b[39;00m\n\u001b[32m      6\u001b[39m \u001b[38;5;28;01mimport\u001b[39;00m\u001b[38;5;250m \u001b[39m\u001b[34;01mstring\u001b[39;00m\n\u001b[32m      7\u001b[39m \u001b[38;5;28;01mfrom\u001b[39;00m\u001b[38;5;250m \u001b[39m\u001b[34;01mnltk\u001b[39;00m\u001b[34;01m.\u001b[39;00m\u001b[34;01mcorpus\u001b[39;00m\u001b[38;5;250m \u001b[39m\u001b[38;5;28;01mimport\u001b[39;00m stopwords\n",
            "\u001b[31mModuleNotFoundError\u001b[39m: No module named 'nltk'"
          ]
        }
      ],
      "source": [
        "import numpy as np\n",
        "import pandas as pd\n",
        "import seaborn as sns\n",
        "import re\n",
        "import nltk\n",
        "import string\n",
        "from nltk.corpus import stopwords\n",
        "from tqdm import tqdm\n",
        "from textblob import TextBlob\n",
        "import matplotlib.pyplot as plt\n",
        "from sklearn.model_selection import train_test_split\n",
        "from sklearn.feature_extraction.text import TfidfVectorizer\n",
        "from sklearn.linear_model import LinearRegression\n",
        "from sklearn.linear_model import LogisticRegression\n",
        "from sklearn.ensemble import RandomForestClassifier\n",
        "from sklearn.metrics import accuracy_score, classification_report\n",
        "from sklearn.metrics import confusion_matrix\n",
        "from sklearn.metrics import mean_squared_error\n",
        "from nltk.corpus import stopwords\n",
        "from nltk.tokenize import word_tokenize\n",
        "from nltk.stem import PorterStemmer\n",
        "from nltk.stem.wordnet import WordNetLemmatizer"
      ]
    },
    {
      "cell_type": "code",
      "execution_count": null,
      "metadata": {
        "execution": {
          "iopub.execute_input": "2025-05-09T22:58:08.409793Z",
          "iopub.status.busy": "2025-05-09T22:58:08.40948Z",
          "iopub.status.idle": "2025-05-09T22:58:09.135148Z",
          "shell.execute_reply": "2025-05-09T22:58:09.13436Z",
          "shell.execute_reply.started": "2025-05-09T22:58:08.409771Z"
        },
        "id": "lca29m2B2j4G",
        "trusted": true
      },
      "outputs": [],
      "source": [
        "import spacy\n",
        "\n",
        "nlp = spacy.load(\"en_core_web_sm\")"
      ]
    },
    {
      "cell_type": "code",
      "execution_count": null,
      "metadata": {
        "execution": {
          "iopub.execute_input": "2025-05-09T22:58:14.076475Z",
          "iopub.status.busy": "2025-05-09T22:58:14.076019Z",
          "iopub.status.idle": "2025-05-09T22:58:19.914362Z",
          "shell.execute_reply": "2025-05-09T22:58:19.913803Z",
          "shell.execute_reply.started": "2025-05-09T22:58:14.076451Z"
        },
        "id": "vxZYPMvi2j4H",
        "trusted": true
      },
      "outputs": [],
      "source": [
        "# Load dataset\n",
        "df = pd.read_csv('2.csv', encoding='latin-1')"
      ]
    },
    {
      "cell_type": "code",
      "execution_count": null,
      "metadata": {
        "execution": {
          "iopub.execute_input": "2025-05-09T22:58:23.460427Z",
          "iopub.status.busy": "2025-05-09T22:58:23.460157Z",
          "iopub.status.idle": "2025-05-09T22:58:23.498994Z",
          "shell.execute_reply": "2025-05-09T22:58:23.49844Z",
          "shell.execute_reply.started": "2025-05-09T22:58:23.460408Z"
        },
        "id": "3X8cW7q_2j4H",
        "trusted": true
      },
      "outputs": [],
      "source": [
        "# Keep only target and text columns\n",
        "df = df[['Score', 'Text']]\n"
      ]
    },
    {
      "cell_type": "code",
      "execution_count": null,
      "metadata": {
        "execution": {
          "iopub.execute_input": "2025-05-09T22:58:31.013069Z",
          "iopub.status.busy": "2025-05-09T22:58:31.01279Z",
          "iopub.status.idle": "2025-05-09T22:58:31.030527Z",
          "shell.execute_reply": "2025-05-09T22:58:31.029927Z",
          "shell.execute_reply.started": "2025-05-09T22:58:31.013049Z"
        },
        "id": "KccQwMTd2j4H",
        "trusted": true
      },
      "outputs": [],
      "source": [
        "df.head()"
      ]
    },
    {
      "cell_type": "code",
      "execution_count": null,
      "metadata": {
        "execution": {
          "iopub.execute_input": "2025-05-09T22:58:37.44135Z",
          "iopub.status.busy": "2025-05-09T22:58:37.4406Z",
          "iopub.status.idle": "2025-05-09T22:58:37.445824Z",
          "shell.execute_reply": "2025-05-09T22:58:37.445115Z",
          "shell.execute_reply.started": "2025-05-09T22:58:37.441324Z"
        },
        "id": "WSxtvMZj2j4I",
        "trusted": true
      },
      "outputs": [],
      "source": [
        "df.shape"
      ]
    },
    {
      "cell_type": "code",
      "execution_count": null,
      "metadata": {
        "execution": {
          "iopub.execute_input": "2025-05-09T22:58:39.87017Z",
          "iopub.status.busy": "2025-05-09T22:58:39.869913Z",
          "iopub.status.idle": "2025-05-09T22:58:39.941992Z",
          "shell.execute_reply": "2025-05-09T22:58:39.941261Z",
          "shell.execute_reply.started": "2025-05-09T22:58:39.870151Z"
        },
        "id": "qcZAA9Mb2j4I",
        "trusted": true
      },
      "outputs": [],
      "source": [
        "df.count()"
      ]
    },
    {
      "cell_type": "markdown",
      "metadata": {
        "id": "hg_7ynJv2j4I"
      },
      "source": [
        "**pre processing**\n"
      ]
    },
    {
      "cell_type": "code",
      "execution_count": null,
      "metadata": {
        "execution": {
          "iopub.execute_input": "2025-05-09T22:58:45.470151Z",
          "iopub.status.busy": "2025-05-09T22:58:45.469513Z",
          "iopub.status.idle": "2025-05-09T23:00:54.588186Z",
          "shell.execute_reply": "2025-05-09T23:00:54.587528Z",
          "shell.execute_reply.started": "2025-05-09T22:58:45.47012Z"
        },
        "id": "lQLSjtJP2j4J",
        "trusted": true
      },
      "outputs": [],
      "source": [
        "stop_words = set(stopwords.words('english'))\n",
        "\n",
        "def clean_text(text):\n",
        "    text = text.lower()\n",
        "    text = re.sub(r\"http\\S+|www\\S+|https\\S+\", '', text)\n",
        "    text = re.sub(r'[^a-z\\s]', '', text)\n",
        "    tokens = word_tokenize(text)\n",
        "    tokens = [word for word in tokens if word not in stop_words]\n",
        "    return ' '.join(tokens)\n",
        "\n",
        "df['clean_text'] = df['Text'].apply(clean_text)\n",
        "print(df[['Text', 'clean_text']].head())\n"
      ]
    },
    {
      "cell_type": "code",
      "execution_count": null,
      "metadata": {
        "execution": {
          "iopub.execute_input": "2025-05-09T23:13:56.896741Z",
          "iopub.status.busy": "2025-05-09T23:13:56.896444Z",
          "iopub.status.idle": "2025-05-09T23:13:57.002346Z",
          "shell.execute_reply": "2025-05-09T23:13:57.001721Z",
          "shell.execute_reply.started": "2025-05-09T23:13:56.89669Z"
        },
        "id": "wUxco-7v2j4J",
        "trusted": true
      },
      "outputs": [],
      "source": [
        "def NER(text):\n",
        "     doc = nlp(text)\n",
        "     return [(ent.text,ent.label_) for ent in doc.ents]\n",
        "\n",
        "df['entities'] = df['Text'].head().apply(NER)\n",
        "print(df[['entities', 'Text']].head())"
      ]
    },
    {
      "cell_type": "code",
      "execution_count": null,
      "metadata": {
        "execution": {
          "iopub.execute_input": "2025-05-09T23:14:29.471322Z",
          "iopub.status.busy": "2025-05-09T23:14:29.47078Z",
          "iopub.status.idle": "2025-05-09T23:18:51.444521Z",
          "shell.execute_reply": "2025-05-09T23:18:51.44376Z",
          "shell.execute_reply.started": "2025-05-09T23:14:29.471301Z"
        },
        "id": "Tp3eFU3C2j4K",
        "trusted": true
      },
      "outputs": [],
      "source": [
        "def get_sent(text):\n",
        "    return TextBlob(text).sentiment.polarity\n",
        "df['sentiment']=df['Text'].apply(get_sent)\n",
        "print(df[['Text', 'sentiment']].head())"
      ]
    },
    {
      "cell_type": "code",
      "execution_count": null,
      "metadata": {
        "execution": {
          "iopub.execute_input": "2025-05-09T23:08:48.477198Z",
          "iopub.status.busy": "2025-05-09T23:08:48.476321Z",
          "iopub.status.idle": "2025-05-09T23:08:48.712222Z",
          "shell.execute_reply": "2025-05-09T23:08:48.711604Z",
          "shell.execute_reply.started": "2025-05-09T23:08:48.47717Z"
        },
        "id": "lb8vh9p92j4K",
        "trusted": true
      },
      "outputs": [],
      "source": [
        "# # Map sentiment: <0 → 0 (negative), >0→ 1 (positive)\n",
        "df['target'] = df['sentiment'].apply(lambda x: 1 if x > 0 else 0)\n",
        "print (df[['Text','target']].head())"
      ]
    },
    {
      "cell_type": "code",
      "execution_count": null,
      "metadata": {
        "execution": {
          "iopub.execute_input": "2025-05-09T23:09:36.062838Z",
          "iopub.status.busy": "2025-05-09T23:09:36.062173Z",
          "iopub.status.idle": "2025-05-09T23:09:52.188966Z",
          "shell.execute_reply": "2025-05-09T23:09:52.188362Z",
          "shell.execute_reply.started": "2025-05-09T23:09:36.062803Z"
        },
        "id": "70YumYtN2j4K",
        "trusted": true
      },
      "outputs": [],
      "source": [
        "X = df['clean_text']\n",
        "y = df['target']\n",
        "\n",
        "# Split dataset\n",
        "X_train, X_test, y_train, y_test = train_test_split(X, y, test_size=0.2, random_state=42)\n",
        "\n",
        "# Vectorize text\n",
        "vectorizer = TfidfVectorizer(max_features=20000)\n",
        "X_train_vec = vectorizer.fit_transform(X_train)\n",
        "X_test_vec = vectorizer.transform(X_test)\n"
      ]
    },
    {
      "cell_type": "code",
      "execution_count": null,
      "metadata": {
        "execution": {
          "iopub.execute_input": "2025-05-09T23:10:51.953421Z",
          "iopub.status.busy": "2025-05-09T23:10:51.95289Z",
          "iopub.status.idle": "2025-05-09T23:11:16.057981Z",
          "shell.execute_reply": "2025-05-09T23:11:16.056289Z",
          "shell.execute_reply.started": "2025-05-09T23:10:51.953398Z"
        },
        "id": "8FO1SXhP2j4K",
        "trusted": true
      },
      "outputs": [],
      "source": [
        "# Train logistic\n",
        "model = LogisticRegression(max_iter=2000)\n",
        "model.fit(X_train_vec, y_train)\n",
        "\n",
        "# Predict\n",
        "y_pred = model.predict(X_test_vec)\n",
        "\n",
        "# Evaluation\n",
        "print(confusion_matrix(y_test, y_pred))\n",
        "print(classification_report(y_test, y_pred))\n"
      ]
    },
    {
      "cell_type": "code",
      "execution_count": null,
      "metadata": {
        "execution": {
          "iopub.execute_input": "2025-05-09T23:11:31.104173Z",
          "iopub.status.busy": "2025-05-09T23:11:31.103906Z",
          "iopub.status.idle": "2025-05-09T23:11:31.313397Z",
          "shell.execute_reply": "2025-05-09T23:11:31.312751Z",
          "shell.execute_reply.started": "2025-05-09T23:11:31.104153Z"
        },
        "id": "YqiX-TuD2j4K",
        "trusted": true
      },
      "outputs": [],
      "source": [
        "import seaborn as sns\n",
        "import matplotlib.pyplot as plt\n",
        "from sklearn.metrics import ConfusionMatrixDisplay\n",
        "\n",
        "# Confusion Matrix\n",
        "cm = confusion_matrix(y_test, y_pred)\n",
        "disp = ConfusionMatrixDisplay(confusion_matrix=cm, display_labels=['Negative', 'Positive'])\n",
        "disp.plot(cmap=plt.cm.Blues)\n",
        "plt.title(\"Confusion Matrix\")\n",
        "plt.show()\n"
      ]
    },
    {
      "cell_type": "code",
      "execution_count": null,
      "metadata": {
        "execution": {
          "execution_failed": "2025-05-09T22:52:34.565Z"
        },
        "id": "bXghth2x2j4L",
        "trusted": true
      },
      "outputs": [],
      "source": [
        "# #train RFC\n",
        "# model = RandomForestClassifier(n_estimators=200, random_state=42)\n",
        "# model.fit(X_train_vec, y_train)\n",
        "\n",
        "# # Predict\n",
        "# y_pred = model.predict(X_test_vec)\n",
        "\n",
        "# # Evaluation\n",
        "# print(confusion_matrix(y_test, y_pred))\n",
        "# print(classification_report(y_test, y_pred))"
      ]
    },
    {
      "cell_type": "code",
      "execution_count": null,
      "metadata": {
        "execution": {
          "execution_failed": "2025-05-09T22:52:34.565Z"
        },
        "id": "_PTpBTE22j4L",
        "trusted": true
      },
      "outputs": [],
      "source": [
        "# # Confusion Matrix\n",
        "# cm = confusion_matrix(y_test, y_pred)\n",
        "# disp = ConfusionMatrixDisplay(confusion_matrix=cm, display_labels=['Negative', 'Positive'])\n",
        "# disp.plot(cmap=plt.cm.Blues)\n",
        "# plt.title(\"Confusion Matrix\")\n",
        "# plt.show()\n"
      ]
    },
    {
      "cell_type": "code",
      "execution_count": null,
      "metadata": {
        "execution": {
          "iopub.execute_input": "2025-05-09T23:11:42.239207Z",
          "iopub.status.busy": "2025-05-09T23:11:42.238483Z",
          "iopub.status.idle": "2025-05-09T23:11:42.852896Z",
          "shell.execute_reply": "2025-05-09T23:11:42.852121Z",
          "shell.execute_reply.started": "2025-05-09T23:11:42.239184Z"
        },
        "id": "fj5r3M3S2j4L",
        "trusted": true
      },
      "outputs": [],
      "source": [
        "import joblib\n",
        "\n",
        "# Save model and vectorizer\n",
        "joblib.dump(model, 'sentiment_model.pkl')\n",
        "joblib.dump(vectorizer, 'tfidf_vectorizer.pkl')\n"
      ]
    },
    {
      "cell_type": "code",
      "execution_count": null,
      "metadata": {
        "execution": {
          "iopub.execute_input": "2025-05-09T23:11:59.667265Z",
          "iopub.status.busy": "2025-05-09T23:11:59.667005Z",
          "iopub.status.idle": "2025-05-09T23:11:59.675072Z",
          "shell.execute_reply": "2025-05-09T23:11:59.67449Z",
          "shell.execute_reply.started": "2025-05-09T23:11:59.667245Z"
        },
        "id": "2-o4_23p2j4L",
        "trusted": true
      },
      "outputs": [],
      "source": [
        "def predict_sentiment(text):\n",
        "    cleaned = clean_text(text)\n",
        "    vectorized = vectorizer.transform([cleaned])\n",
        "    prediction = model.predict(vectorized)\n",
        "    return 'Positive' if prediction[0] == 1 else 'Negative'\n",
        "\n",
        "# Example\n",
        "print(predict_sentiment(\"l love this!\"))\n",
        "print(predict_sentiment(\"taste food is bad.\"))\n"
      ]
    }
  ],
  "metadata": {
    "colab": {
      "name": "text mining too",
      "provenance": []
    },
    "kaggle": {
      "accelerator": "gpu",
      "dataSources": [
        {
          "datasetId": 18,
          "sourceId": 2157,
          "sourceType": "datasetVersion"
        }
      ],
      "dockerImageVersionId": 31012,
      "isGpuEnabled": true,
      "isInternetEnabled": true,
      "language": "python",
      "sourceType": "notebook"
    },
    "kernelspec": {
      "display_name": "Python 3",
      "language": "python",
      "name": "python3"
    },
    "language_info": {
      "codemirror_mode": {
        "name": "ipython",
        "version": 3
      },
      "file_extension": ".py",
      "mimetype": "text/x-python",
      "name": "python",
      "nbconvert_exporter": "python",
      "pygments_lexer": "ipython3",
      "version": "3.11.11"
    }
  },
  "nbformat": 4,
  "nbformat_minor": 0
}

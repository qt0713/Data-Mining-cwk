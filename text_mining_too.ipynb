{
  "metadata": {
    "kernelspec": {
      "name": "python3",
      "display_name": "Python 3",
      "language": "python"
    },
    "language_info": {
      "name": "python",
      "version": "3.11.11",
      "mimetype": "text/x-python",
      "codemirror_mode": {
        "name": "ipython",
        "version": 3
      },
      "pygments_lexer": "ipython3",
      "nbconvert_exporter": "python",
      "file_extension": ".py"
    },
    "kaggle": {
      "accelerator": "gpu",
      "dataSources": [
        {
          "sourceId": 2157,
          "sourceType": "datasetVersion",
          "datasetId": 18
        }
      ],
      "dockerImageVersionId": 31012,
      "isInternetEnabled": true,
      "language": "python",
      "sourceType": "notebook",
      "isGpuEnabled": true
    },
    "colab": {
      "name": "text mining too",
      "provenance": []
    }
  },
  "nbformat_minor": 0,
  "nbformat": 4,
  "cells": [
    {
      "source": [
        "# IMPORTANT: RUN THIS CELL IN ORDER TO IMPORT YOUR KAGGLE DATA SOURCES,\n",
        "# THEN FEEL FREE TO DELETE THIS CELL.\n",
        "# NOTE: THIS NOTEBOOK ENVIRONMENT DIFFERS FROM KAGGLE'S PYTHON\n",
        "# ENVIRONMENT SO THERE MAY BE MISSING LIBRARIES USED BY YOUR\n",
        "# NOTEBOOK.\n",
        "import kagglehub\n",
        "organizations_snap_amazon_fine_food_reviews_path = kagglehub.dataset_download('organizations/snap/amazon-fine-food-reviews')\n",
        "\n",
        "print('Data source import complete.')\n"
      ],
      "metadata": {
        "id": "MXqcVRbh2j4D"
      },
      "cell_type": "code",
      "outputs": [],
      "execution_count": null
    },
    {
      "cell_type": "code",
      "source": [
        "import numpy as np\n",
        "import pandas as pd\n",
        "import seaborn as sns\n",
        "import re\n",
        "import nltk\n",
        "import string\n",
        "from nltk.corpus import stopwords\n",
        "from tqdm import tqdm\n",
        "from textblob import TextBlob\n",
        "import matplotlib.pyplot as plt\n",
        "from sklearn.model_selection import train_test_split\n",
        "from sklearn.feature_extraction.text import TfidfVectorizer\n",
        "from sklearn.linear_model import LinearRegression\n",
        "from sklearn.linear_model import LogisticRegression\n",
        "from sklearn.ensemble import RandomForestClassifier\n",
        "from sklearn.metrics import accuracy_score, classification_report\n",
        "from sklearn.metrics import confusion_matrix\n",
        "from sklearn.metrics import mean_squared_error\n",
        "from nltk.corpus import stopwords\n",
        "from nltk.tokenize import word_tokenize\n",
        "from nltk.stem import PorterStemmer\n",
        "from nltk.stem.wordnet import WordNetLemmatizer"
      ],
      "metadata": {
        "trusted": true,
        "execution": {
          "iopub.status.busy": "2025-05-09T22:58:04.250664Z",
          "iopub.execute_input": "2025-05-09T22:58:04.251237Z",
          "iopub.status.idle": "2025-05-09T22:58:04.520625Z",
          "shell.execute_reply.started": "2025-05-09T22:58:04.251214Z",
          "shell.execute_reply": "2025-05-09T22:58:04.520108Z"
        },
        "id": "hGWmx0dz2j4F"
      },
      "outputs": [],
      "execution_count": null
    },
    {
      "cell_type": "code",
      "source": [
        "import spacy\n",
        "\n",
        "nlp = spacy.load(\"en_core_web_sm\")"
      ],
      "metadata": {
        "trusted": true,
        "execution": {
          "iopub.status.busy": "2025-05-09T22:58:08.40948Z",
          "iopub.execute_input": "2025-05-09T22:58:08.409793Z",
          "iopub.status.idle": "2025-05-09T22:58:09.135148Z",
          "shell.execute_reply.started": "2025-05-09T22:58:08.409771Z",
          "shell.execute_reply": "2025-05-09T22:58:09.13436Z"
        },
        "id": "lca29m2B2j4G"
      },
      "outputs": [],
      "execution_count": null
    },
    {
      "cell_type": "code",
      "source": [
        "# Load dataset\n",
        "df = pd.read_csv('/kaggle/input/amazon-fine-food-reviews/Reviews.csv', encoding='latin-1')"
      ],
      "metadata": {
        "trusted": true,
        "execution": {
          "iopub.status.busy": "2025-05-09T22:58:14.076019Z",
          "iopub.execute_input": "2025-05-09T22:58:14.076475Z",
          "iopub.status.idle": "2025-05-09T22:58:19.914362Z",
          "shell.execute_reply.started": "2025-05-09T22:58:14.076451Z",
          "shell.execute_reply": "2025-05-09T22:58:19.913803Z"
        },
        "id": "vxZYPMvi2j4H"
      },
      "outputs": [],
      "execution_count": null
    },
    {
      "cell_type": "code",
      "source": [
        "# Keep only target and text columns\n",
        "df = df[['Score', 'Text']]\n"
      ],
      "metadata": {
        "trusted": true,
        "execution": {
          "iopub.status.busy": "2025-05-09T22:58:23.460157Z",
          "iopub.execute_input": "2025-05-09T22:58:23.460427Z",
          "iopub.status.idle": "2025-05-09T22:58:23.498994Z",
          "shell.execute_reply.started": "2025-05-09T22:58:23.460408Z",
          "shell.execute_reply": "2025-05-09T22:58:23.49844Z"
        },
        "id": "3X8cW7q_2j4H"
      },
      "outputs": [],
      "execution_count": null
    },
    {
      "cell_type": "code",
      "source": [
        "df.head()"
      ],
      "metadata": {
        "trusted": true,
        "execution": {
          "iopub.status.busy": "2025-05-09T22:58:31.01279Z",
          "iopub.execute_input": "2025-05-09T22:58:31.013069Z",
          "iopub.status.idle": "2025-05-09T22:58:31.030527Z",
          "shell.execute_reply.started": "2025-05-09T22:58:31.013049Z",
          "shell.execute_reply": "2025-05-09T22:58:31.029927Z"
        },
        "id": "KccQwMTd2j4H"
      },
      "outputs": [],
      "execution_count": null
    },
    {
      "cell_type": "code",
      "source": [
        "df.shape"
      ],
      "metadata": {
        "trusted": true,
        "execution": {
          "iopub.status.busy": "2025-05-09T22:58:37.4406Z",
          "iopub.execute_input": "2025-05-09T22:58:37.44135Z",
          "iopub.status.idle": "2025-05-09T22:58:37.445824Z",
          "shell.execute_reply.started": "2025-05-09T22:58:37.441324Z",
          "shell.execute_reply": "2025-05-09T22:58:37.445115Z"
        },
        "id": "WSxtvMZj2j4I"
      },
      "outputs": [],
      "execution_count": null
    },
    {
      "cell_type": "code",
      "source": [
        "df.count()"
      ],
      "metadata": {
        "trusted": true,
        "execution": {
          "iopub.status.busy": "2025-05-09T22:58:39.869913Z",
          "iopub.execute_input": "2025-05-09T22:58:39.87017Z",
          "iopub.status.idle": "2025-05-09T22:58:39.941992Z",
          "shell.execute_reply.started": "2025-05-09T22:58:39.870151Z",
          "shell.execute_reply": "2025-05-09T22:58:39.941261Z"
        },
        "id": "qcZAA9Mb2j4I"
      },
      "outputs": [],
      "execution_count": null
    },
    {
      "cell_type": "markdown",
      "source": [
        "**pre processing**\n"
      ],
      "metadata": {
        "id": "hg_7ynJv2j4I"
      }
    },
    {
      "cell_type": "code",
      "source": [
        "stop_words = set(stopwords.words('english'))\n",
        "\n",
        "def clean_text(text):\n",
        "    text = text.lower()\n",
        "    text = re.sub(r\"http\\S+|www\\S+|https\\S+\", '', text)\n",
        "    text = re.sub(r'[^a-z\\s]', '', text)\n",
        "    tokens = word_tokenize(text)\n",
        "    tokens = [word for word in tokens if word not in stop_words]\n",
        "    return ' '.join(tokens)\n",
        "\n",
        "df['clean_text'] = df['Text'].apply(clean_text)\n",
        "print(df[['Text', 'clean_text']].head())\n"
      ],
      "metadata": {
        "trusted": true,
        "execution": {
          "iopub.status.busy": "2025-05-09T22:58:45.469513Z",
          "iopub.execute_input": "2025-05-09T22:58:45.470151Z",
          "iopub.status.idle": "2025-05-09T23:00:54.588186Z",
          "shell.execute_reply.started": "2025-05-09T22:58:45.47012Z",
          "shell.execute_reply": "2025-05-09T23:00:54.587528Z"
        },
        "id": "lQLSjtJP2j4J"
      },
      "outputs": [],
      "execution_count": null
    },
    {
      "cell_type": "code",
      "source": [
        "def NER(text):\n",
        "     doc = nlp(text)\n",
        "     return [(ent.text,ent.label_) for ent in doc.ents]\n",
        "\n",
        "df['entities'] = df['Text'].head().apply(NER)\n",
        "print(df[['entities', 'Text']].head())"
      ],
      "metadata": {
        "trusted": true,
        "execution": {
          "iopub.status.busy": "2025-05-09T23:13:56.896444Z",
          "iopub.execute_input": "2025-05-09T23:13:56.896741Z",
          "iopub.status.idle": "2025-05-09T23:13:57.002346Z",
          "shell.execute_reply.started": "2025-05-09T23:13:56.89669Z",
          "shell.execute_reply": "2025-05-09T23:13:57.001721Z"
        },
        "id": "wUxco-7v2j4J"
      },
      "outputs": [],
      "execution_count": null
    },
    {
      "cell_type": "code",
      "source": [
        "def get_sent(text):\n",
        "    return TextBlob(text).sentiment.polarity\n",
        "df['sentiment']=df['Text'].apply(get_sent)\n",
        "print(df[['Text', 'sentiment']].head())"
      ],
      "metadata": {
        "trusted": true,
        "execution": {
          "iopub.status.busy": "2025-05-09T23:14:29.47078Z",
          "iopub.execute_input": "2025-05-09T23:14:29.471322Z",
          "iopub.status.idle": "2025-05-09T23:18:51.444521Z",
          "shell.execute_reply.started": "2025-05-09T23:14:29.471301Z",
          "shell.execute_reply": "2025-05-09T23:18:51.44376Z"
        },
        "id": "Tp3eFU3C2j4K"
      },
      "outputs": [],
      "execution_count": null
    },
    {
      "cell_type": "code",
      "source": [
        "# # Map sentiment: <0 → 0 (negative), >0→ 1 (positive)\n",
        "df['target'] = df['sentiment'].apply(lambda x: 1 if x > 0 else 0)\n",
        "print (df[['Text','target']].head())"
      ],
      "metadata": {
        "trusted": true,
        "execution": {
          "iopub.status.busy": "2025-05-09T23:08:48.476321Z",
          "iopub.execute_input": "2025-05-09T23:08:48.477198Z",
          "iopub.status.idle": "2025-05-09T23:08:48.712222Z",
          "shell.execute_reply.started": "2025-05-09T23:08:48.47717Z",
          "shell.execute_reply": "2025-05-09T23:08:48.711604Z"
        },
        "id": "lb8vh9p92j4K"
      },
      "outputs": [],
      "execution_count": null
    },
    {
      "cell_type": "code",
      "source": [
        "X = df['clean_text']\n",
        "y = df['target']\n",
        "\n",
        "# Split dataset\n",
        "X_train, X_test, y_train, y_test = train_test_split(X, y, test_size=0.2, random_state=42)\n",
        "\n",
        "# Vectorize text\n",
        "vectorizer = TfidfVectorizer(max_features=20000)\n",
        "X_train_vec = vectorizer.fit_transform(X_train)\n",
        "X_test_vec = vectorizer.transform(X_test)\n"
      ],
      "metadata": {
        "trusted": true,
        "execution": {
          "iopub.status.busy": "2025-05-09T23:09:36.062173Z",
          "iopub.execute_input": "2025-05-09T23:09:36.062838Z",
          "iopub.status.idle": "2025-05-09T23:09:52.188966Z",
          "shell.execute_reply.started": "2025-05-09T23:09:36.062803Z",
          "shell.execute_reply": "2025-05-09T23:09:52.188362Z"
        },
        "id": "70YumYtN2j4K"
      },
      "outputs": [],
      "execution_count": null
    },
    {
      "cell_type": "code",
      "source": [
        "# Train logistic\n",
        "model = LogisticRegression(max_iter=2000)\n",
        "model.fit(X_train_vec, y_train)\n",
        "\n",
        "# Predict\n",
        "y_pred = model.predict(X_test_vec)\n",
        "\n",
        "# Evaluation\n",
        "print(confusion_matrix(y_test, y_pred))\n",
        "print(classification_report(y_test, y_pred))\n"
      ],
      "metadata": {
        "trusted": true,
        "execution": {
          "iopub.status.busy": "2025-05-09T23:10:51.95289Z",
          "iopub.execute_input": "2025-05-09T23:10:51.953421Z",
          "iopub.status.idle": "2025-05-09T23:11:16.057981Z",
          "shell.execute_reply.started": "2025-05-09T23:10:51.953398Z",
          "shell.execute_reply": "2025-05-09T23:11:16.056289Z"
        },
        "id": "8FO1SXhP2j4K"
      },
      "outputs": [],
      "execution_count": null
    },
    {
      "cell_type": "code",
      "source": [
        "import seaborn as sns\n",
        "import matplotlib.pyplot as plt\n",
        "from sklearn.metrics import ConfusionMatrixDisplay\n",
        "\n",
        "# Confusion Matrix\n",
        "cm = confusion_matrix(y_test, y_pred)\n",
        "disp = ConfusionMatrixDisplay(confusion_matrix=cm, display_labels=['Negative', 'Positive'])\n",
        "disp.plot(cmap=plt.cm.Blues)\n",
        "plt.title(\"Confusion Matrix\")\n",
        "plt.show()\n"
      ],
      "metadata": {
        "trusted": true,
        "execution": {
          "iopub.status.busy": "2025-05-09T23:11:31.103906Z",
          "iopub.execute_input": "2025-05-09T23:11:31.104173Z",
          "iopub.status.idle": "2025-05-09T23:11:31.313397Z",
          "shell.execute_reply.started": "2025-05-09T23:11:31.104153Z",
          "shell.execute_reply": "2025-05-09T23:11:31.312751Z"
        },
        "id": "YqiX-TuD2j4K"
      },
      "outputs": [],
      "execution_count": null
    },
    {
      "cell_type": "code",
      "source": [
        "# #train RFC\n",
        "# model = RandomForestClassifier(n_estimators=200, random_state=42)\n",
        "# model.fit(X_train_vec, y_train)\n",
        "\n",
        "# # Predict\n",
        "# y_pred = model.predict(X_test_vec)\n",
        "\n",
        "# # Evaluation\n",
        "# print(confusion_matrix(y_test, y_pred))\n",
        "# print(classification_report(y_test, y_pred))"
      ],
      "metadata": {
        "trusted": true,
        "execution": {
          "execution_failed": "2025-05-09T22:52:34.565Z"
        },
        "id": "bXghth2x2j4L"
      },
      "outputs": [],
      "execution_count": null
    },
    {
      "cell_type": "code",
      "source": [
        "# # Confusion Matrix\n",
        "# cm = confusion_matrix(y_test, y_pred)\n",
        "# disp = ConfusionMatrixDisplay(confusion_matrix=cm, display_labels=['Negative', 'Positive'])\n",
        "# disp.plot(cmap=plt.cm.Blues)\n",
        "# plt.title(\"Confusion Matrix\")\n",
        "# plt.show()\n"
      ],
      "metadata": {
        "trusted": true,
        "execution": {
          "execution_failed": "2025-05-09T22:52:34.565Z"
        },
        "id": "_PTpBTE22j4L"
      },
      "outputs": [],
      "execution_count": null
    },
    {
      "cell_type": "code",
      "source": [
        "import joblib\n",
        "\n",
        "# Save model and vectorizer\n",
        "joblib.dump(model, 'sentiment_model.pkl')\n",
        "joblib.dump(vectorizer, 'tfidf_vectorizer.pkl')\n"
      ],
      "metadata": {
        "trusted": true,
        "execution": {
          "iopub.status.busy": "2025-05-09T23:11:42.238483Z",
          "iopub.execute_input": "2025-05-09T23:11:42.239207Z",
          "iopub.status.idle": "2025-05-09T23:11:42.852896Z",
          "shell.execute_reply.started": "2025-05-09T23:11:42.239184Z",
          "shell.execute_reply": "2025-05-09T23:11:42.852121Z"
        },
        "id": "fj5r3M3S2j4L"
      },
      "outputs": [],
      "execution_count": null
    },
    {
      "cell_type": "code",
      "source": [
        "def predict_sentiment(text):\n",
        "    cleaned = clean_text(text)\n",
        "    vectorized = vectorizer.transform([cleaned])\n",
        "    prediction = model.predict(vectorized)\n",
        "    return 'Positive' if prediction[0] == 1 else 'Negative'\n",
        "\n",
        "# Example\n",
        "print(predict_sentiment(\"l love this!\"))\n",
        "print(predict_sentiment(\"taste food is bad.\"))\n"
      ],
      "metadata": {
        "trusted": true,
        "execution": {
          "iopub.status.busy": "2025-05-09T23:11:59.667005Z",
          "iopub.execute_input": "2025-05-09T23:11:59.667265Z",
          "iopub.status.idle": "2025-05-09T23:11:59.675072Z",
          "shell.execute_reply.started": "2025-05-09T23:11:59.667245Z",
          "shell.execute_reply": "2025-05-09T23:11:59.67449Z"
        },
        "id": "2-o4_23p2j4L"
      },
      "outputs": [],
      "execution_count": null
    }
  ]
}